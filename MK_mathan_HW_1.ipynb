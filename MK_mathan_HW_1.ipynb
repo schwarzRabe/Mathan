{
 "cells": [
  {
   "cell_type": "markdown",
   "id": "0dee24c0-e9bf-427b-9b04-43e4c8220228",
   "metadata": {
    "id": "0dee24c0-e9bf-427b-9b04-43e4c8220228"
   },
   "source": [
    "# Домашнее задание"
   ]
  },
  {
   "cell_type": "code",
   "execution_count": 2,
   "id": "dcdab65d-a679-4881-8549-532ff8888a14",
   "metadata": {},
   "outputs": [],
   "source": [
    "import sympy as sp\n",
    "import numpy as np\n",
    "import pandas as pd\n",
    "from sklearn.preprocessing import StandardScaler\n",
    "from sklearn.preprocessing import MinMaxScaler\n",
    "from sklearn.linear_model import LinearRegression"
   ]
  },
  {
   "cell_type": "markdown",
   "id": "feafcfd9-2d32-4682-bcd0-07a0c9bbd32c",
   "metadata": {
    "id": "feafcfd9-2d32-4682-bcd0-07a0c9bbd32c"
   },
   "source": [
    "Математический анализ\n",
    "69 баллов"
   ]
  },
  {
   "cell_type": "markdown",
   "id": "b2345ed9-1018-4084-9636-7e7b92bd6c64",
   "metadata": {
    "id": "b2345ed9-1018-4084-9636-7e7b92bd6c64"
   },
   "source": [
    "**Задача 1** (14 баллов)\n",
    "\n",
    "Найдите экстремумы функции:"
   ]
  },
  {
   "cell_type": "markdown",
   "id": "e25e75bf-9d1e-4511-8846-8bfe99ae17f8",
   "metadata": {
    "id": "e25e75bf-9d1e-4511-8846-8bfe99ae17f8"
   },
   "source": [
    "$$\n",
    "f(x, y, z)=2 x^3+2 x y+2 x z+y^2+z^2+2 y-8 .\n",
    "$$"
   ]
  },
  {
   "cell_type": "markdown",
   "id": "ce92b07d-f19e-4f72-ab80-d04d0bae9984",
   "metadata": {
    "id": "ce92b07d-f19e-4f72-ab80-d04d0bae9984"
   },
   "source": [
    "Распишите подробное решение."
   ]
  },
  {
   "cell_type": "code",
   "execution_count": 7,
   "id": "0eddb54d-58f6-47ed-bef4-cb262d500cbe",
   "metadata": {
    "id": "0eddb54d-58f6-47ed-bef4-cb262d500cbe"
   },
   "outputs": [
    {
     "name": "stdout",
     "output_type": "stream",
     "text": [
      "Частная производная f(x,y,z) по х: 6*x**2 + 2*y + 2*z\n",
      "Частная производная f(x,y,z) по y: 2*x + 2*y + 2\n",
      "Частная производная f(x,y,z) по z: 2*x + 2*z\n",
      "Критические точки: [(-1/3, -2/3, 1/3), (1, -2, -1)]\n",
      "Матрица Гессе\n"
     ]
    },
    {
     "data": {
      "text/latex": [
       "$\\displaystyle \\left[\\begin{matrix}12 x & 2 & 2\\\\2 & 2 & 0\\\\2 & 0 & 2\\end{matrix}\\right]$"
      ],
      "text/plain": [
       "Matrix([\n",
       "[12*x, 2, 2],\n",
       "[   2, 2, 0],\n",
       "[   2, 0, 2]])"
      ]
     },
     "metadata": {},
     "output_type": "display_data"
    },
    {
     "name": "stdout",
     "output_type": "stream",
     "text": [
      "\n",
      " для точки ((-1/3, -2/3, 1/3) \n",
      " Матрица Гессе\n"
     ]
    },
    {
     "data": {
      "text/latex": [
       "$\\displaystyle \\left[\\begin{matrix}-4 & 2 & 2\\\\2 & 2 & 0\\\\2 & 0 & 2\\end{matrix}\\right]$"
      ],
      "text/plain": [
       "Matrix([\n",
       "[-4, 2, 2],\n",
       "[ 2, 2, 0],\n",
       "[ 2, 0, 2]])"
      ]
     },
     "metadata": {},
     "output_type": "display_data"
    },
    {
     "name": "stdout",
     "output_type": "stream",
     "text": [
      "Седловая точка (-1/3, -2/3, 1/3)\n",
      "\n",
      " для точки ((1, -2, -1) \n",
      " Матрица Гессе\n"
     ]
    },
    {
     "data": {
      "text/latex": [
       "$\\displaystyle \\left[\\begin{matrix}12 & 2 & 2\\\\2 & 2 & 0\\\\2 & 0 & 2\\end{matrix}\\right]$"
      ],
      "text/plain": [
       "Matrix([\n",
       "[12, 2, 2],\n",
       "[ 2, 2, 0],\n",
       "[ 2, 0, 2]])"
      ]
     },
     "metadata": {},
     "output_type": "display_data"
    },
    {
     "name": "stdout",
     "output_type": "stream",
     "text": [
      "Минимум в точке (1, -2, -1)\n"
     ]
    }
   ],
   "source": [
    "# Cимвольные переменные\n",
    "x, y, z = sp.symbols('x y z')\n",
    "# Функция\n",
    "f = 2*x**3 + 2*x*y + 2*x*z + y**2 + z**2 + 2*y - 8\n",
    "# Находим частные производные по x, y, z\n",
    "f_dx = sp.diff(f, x)\n",
    "print(f'Частная производная f(x,y,z) по х: {f_dx}')\n",
    "f_dy = sp.diff(f, y)\n",
    "print(f'Частная производная f(x,y,z) по y: {f_dy}')\n",
    "f_dz = sp.diff(f, z)\n",
    "print(f'Частная производная f(x,y,z) по z: {f_dz}')\n",
    "# Приравниваем функции частных производных к 0, решаем систему уравнений \n",
    "# 6*x**2 + 2*y + 2*z = 0\n",
    "# 2*x + 2*y + 2 = 0\n",
    "# 2*x + 2*z = 0\n",
    "points_critik = sp.solve([f_dx, f_dy, f_dz], (x, y, z))\n",
    "print(f'Критические точки: {points_critik}')\n",
    "# составляем матрицу Гессе — матрицу вторых частных производных.\n",
    "# f dxdx: 12*x\n",
    "# f dydy: 2\n",
    "# f dzdz: 2\n",
    "# f dxdy: 2\n",
    "# f dxdz: 2\n",
    "# f dxdx: 0\n",
    "\n",
    "Hes_matrix = sp.hessian(f, (x, y, z))\n",
    "print('Матрица Гессе')\n",
    "display(Hes_matrix)\n",
    "\n",
    "# Проверяем найденные точки экстремумов\n",
    "for point in points_critik:\n",
    "    # Рассчитываем матрицу Гессе для каждой найденной критической точки\n",
    "    print(f'\\n для точки ({point} \\n Матрица Гессе')\n",
    "    Hes_fix = Hes_matrix.subs({x: point[0], y: point[1], z: point[2]})\n",
    "    display(Hes_fix)\n",
    "#    det_Hes = Hes_fix.det()\n",
    "#    print(f' Определитель матрицы =:{det_Hes}')\n",
    "    # Находим собственные числа\n",
    "    eig = Hes_fix.eigenvals()\n",
    "   \n",
    "    # На собственных чисел определяем тип экстремума\n",
    "    if all(item > 0 for item in eig) > 0: # матрица Гессе положительно определена\n",
    "        print(\"Минимум в точке\", point)\n",
    "    elif all(item > 0 for item in eig) < 0: # матрица Гессе отрицательно определена\n",
    "        print(\"Максимум в точке\", point)\n",
    "    else:\n",
    "        print(\"Седловая точка\", point)"
   ]
  },
  {
   "cell_type": "markdown",
   "id": "b38584b7-0da5-4858-9422-ff5bc2b3854f",
   "metadata": {
    "id": "b38584b7-0da5-4858-9422-ff5bc2b3854f"
   },
   "source": [
    "**Задача 2** (25 баллов)\n",
    "\n",
    "Найдите условные экстремумы функции:"
   ]
  },
  {
   "cell_type": "markdown",
   "id": "b36ed820-965b-484d-baab-b2cafebe7479",
   "metadata": {
    "id": "b36ed820-965b-484d-baab-b2cafebe7479"
   },
   "source": [
    "$$\n",
    "f(x, y)=4 x+8 y, y^2-2 x y+5=0\n",
    "$$"
   ]
  },
  {
   "cell_type": "markdown",
   "id": "2ce1c6f1-d126-4368-a63e-2bbbefffd542",
   "metadata": {
    "id": "2ce1c6f1-d126-4368-a63e-2bbbefffd542"
   },
   "source": [
    "Вычислите результат самостоятельно (вручную) и с помощью Python. Сравните результаты."
   ]
  },
  {
   "cell_type": "markdown",
   "id": "3aa6a660-f736-4e63-b63e-557d1884081f",
   "metadata": {
    "id": "818929f6-c478-49ad-997e-536d3c4f7f33"
   },
   "source": [
    "1.Oбъединяем функцию f(x,y) = 4x + 8y и функцию ограничений y² - 2xy + 5 в функцию Лагранжа, где λ - множитель Лагранжа\n",
    "\n",
    "L(x,y,λ) = 4x + 8y + λ(y² - 2xy + 5)\n",
    "\n",
    "2.Находим частные производные\n",
    "\n",
    "dL/dx = 4 - 2λy\n",
    "\n",
    "dL/dy = 8 + 2λy - 2λx\n",
    "\n",
    "dL/dλ = y² - 2xy + 5\n",
    "\n",
    "3.Приравниваем частные производные к 0\n",
    "\n",
    "4 - 2λy = 0\n",
    "\n",
    "8 + 2λy - 2λx = 0\n",
    "\n",
    "y² - 2xy + 5 = 0\n",
    "\n",
    "4.Решаем систему уравнений\n",
    "\n",
    "2λy = 4: λ = 2/y\n",
    "\n",
    "2λx - 2λy = 8: подставим λ из 1-го уравнения: 4x/y = 12: x = 3y\n",
    "\n",
    "y² - 2xy + 5 = 0: подставим x: y² -6y² =-5: y² = 1: y = +-1\n",
    "\n",
    "Находим соответствующие значения х = +-3\n",
    "\n",
    "Т.о. условные экстремумы функции достигаются в точках (3, 1) и (-3, -1)\n"
   ]
  },
  {
   "cell_type": "code",
   "execution_count": 11,
   "id": "ad0e7f66-8558-4238-bc80-dda4b3606e04",
   "metadata": {},
   "outputs": [
    {
     "name": "stdout",
     "output_type": "stream",
     "text": [
      "Точка экстремума: (-3, -1)\n",
      "Значение функциии 4*x + 8*y = -20\n",
      "Точка экстремума: (3, 1)\n",
      "Значение функциии 4*x + 8*y = 20\n"
     ]
    }
   ],
   "source": [
    "# Программное решение с помощью Python\n",
    "x,y,l = sp.symbols('x, y, l')\n",
    "\n",
    "f = 4*x + 8*y         # функция\n",
    "g = y**2 - 2*x*y + 5  # функция ограничений \n",
    "L = f + l*g     # функция Лагранжа\n",
    "\n",
    "# Находим первые частные производные\n",
    "L_dx = L.diff(x)\n",
    "L_dy = L.diff(y)\n",
    "L_dlambda_ = L.diff(l)\n",
    "\n",
    "# Приравниваем к 0, решаем систему уравнений \n",
    "points_extrem = sp.solve([L_dx, L_dy, L_dlambda_], [x, y, l])\n",
    "for item in points_extrem:\n",
    "    print(\"Точка экстремума:\", (item[0], item[1]))\n",
    "    print(f'Значение функциии {f} = {f.subs({x: item[0], y: item[1]})}')"
   ]
  },
  {
   "cell_type": "code",
   "execution_count": 12,
   "id": "9e6fd791-2f62-46ca-8a48-134779cb587c",
   "metadata": {},
   "outputs": [],
   "source": [
    "# результат нахождения точек экстремума заданной функции вручную и с помощью Рython совпадает"
   ]
  },
  {
   "cell_type": "markdown",
   "id": "818083c3-7318-4669-bb15-5a8a48ef543d",
   "metadata": {
    "id": "818083c3-7318-4669-bb15-5a8a48ef543d"
   },
   "source": [
    "**Задача 3** (30 баллов)\n",
    "\n",
    "Вам предложены данные с информацией о успеваемости студентов:\n",
    "\n",
    "Независимые переменные:\n",
    "* Hours Studied: Общее количество часов, потраченных на учебу каждым студентом.\n",
    "* Previous Scores: Баллы, полученные студентами на предыдущих экзаменах.\n",
    "* Sleep Hours: Среднее количество часов сна студента в сутки.\n",
    "* Sample Question Papers Practiced: Количество пробных экзаменационных работ, с которыми студент занимался.\n",
    "  \n",
    "Целевая переменная:\n",
    "* Performance Index: Показатель общей успеваемости каждого студента. Индекс успеваемости отражает академическую успеваемость студента и округляется до ближайшего целого числа. Индекс варьируется от 10 до 100, при этом более высокие значения свидетельствуют о более высокой успеваемости."
   ]
  },
  {
   "cell_type": "markdown",
   "id": "f65c2300-43b2-4c43-b762-1e20d29ae889",
   "metadata": {
    "id": "f65c2300-43b2-4c43-b762-1e20d29ae889"
   },
   "source": [
    "**Решите задачу линейной регрессии, реализовав градиентный спуск самостоятельно, не используя готовое решение из какой-либо библиотеки.**"
   ]
  },
  {
   "cell_type": "code",
   "execution_count": 15,
   "id": "3900c065-fb9b-45bf-bc1f-a9c9d0ab5c20",
   "metadata": {
    "id": "3900c065-fb9b-45bf-bc1f-a9c9d0ab5c20"
   },
   "outputs": [
    {
     "data": {
      "text/html": [
       "<div>\n",
       "<style scoped>\n",
       "    .dataframe tbody tr th:only-of-type {\n",
       "        vertical-align: middle;\n",
       "    }\n",
       "\n",
       "    .dataframe tbody tr th {\n",
       "        vertical-align: top;\n",
       "    }\n",
       "\n",
       "    .dataframe thead th {\n",
       "        text-align: right;\n",
       "    }\n",
       "</style>\n",
       "<table border=\"1\" class=\"dataframe\">\n",
       "  <thead>\n",
       "    <tr style=\"text-align: right;\">\n",
       "      <th></th>\n",
       "      <th>Hours Studied</th>\n",
       "      <th>Previous Scores</th>\n",
       "      <th>Sleep Hours</th>\n",
       "      <th>Sample Question Papers Practiced</th>\n",
       "      <th>Performance Index</th>\n",
       "    </tr>\n",
       "  </thead>\n",
       "  <tbody>\n",
       "    <tr>\n",
       "      <th>count</th>\n",
       "      <td>10000.000000</td>\n",
       "      <td>10000.000000</td>\n",
       "      <td>10000.000000</td>\n",
       "      <td>10000.000000</td>\n",
       "      <td>10000.000000</td>\n",
       "    </tr>\n",
       "    <tr>\n",
       "      <th>mean</th>\n",
       "      <td>4.992900</td>\n",
       "      <td>69.445700</td>\n",
       "      <td>6.530600</td>\n",
       "      <td>4.583300</td>\n",
       "      <td>55.224800</td>\n",
       "    </tr>\n",
       "    <tr>\n",
       "      <th>std</th>\n",
       "      <td>2.589309</td>\n",
       "      <td>17.343152</td>\n",
       "      <td>1.695863</td>\n",
       "      <td>2.867348</td>\n",
       "      <td>19.212558</td>\n",
       "    </tr>\n",
       "    <tr>\n",
       "      <th>min</th>\n",
       "      <td>1.000000</td>\n",
       "      <td>40.000000</td>\n",
       "      <td>4.000000</td>\n",
       "      <td>0.000000</td>\n",
       "      <td>10.000000</td>\n",
       "    </tr>\n",
       "    <tr>\n",
       "      <th>25%</th>\n",
       "      <td>3.000000</td>\n",
       "      <td>54.000000</td>\n",
       "      <td>5.000000</td>\n",
       "      <td>2.000000</td>\n",
       "      <td>40.000000</td>\n",
       "    </tr>\n",
       "    <tr>\n",
       "      <th>50%</th>\n",
       "      <td>5.000000</td>\n",
       "      <td>69.000000</td>\n",
       "      <td>7.000000</td>\n",
       "      <td>5.000000</td>\n",
       "      <td>55.000000</td>\n",
       "    </tr>\n",
       "    <tr>\n",
       "      <th>75%</th>\n",
       "      <td>7.000000</td>\n",
       "      <td>85.000000</td>\n",
       "      <td>8.000000</td>\n",
       "      <td>7.000000</td>\n",
       "      <td>71.000000</td>\n",
       "    </tr>\n",
       "    <tr>\n",
       "      <th>max</th>\n",
       "      <td>9.000000</td>\n",
       "      <td>99.000000</td>\n",
       "      <td>9.000000</td>\n",
       "      <td>9.000000</td>\n",
       "      <td>100.000000</td>\n",
       "    </tr>\n",
       "  </tbody>\n",
       "</table>\n",
       "</div>"
      ],
      "text/plain": [
       "       Hours Studied  Previous Scores   Sleep Hours  \\\n",
       "count   10000.000000     10000.000000  10000.000000   \n",
       "mean        4.992900        69.445700      6.530600   \n",
       "std         2.589309        17.343152      1.695863   \n",
       "min         1.000000        40.000000      4.000000   \n",
       "25%         3.000000        54.000000      5.000000   \n",
       "50%         5.000000        69.000000      7.000000   \n",
       "75%         7.000000        85.000000      8.000000   \n",
       "max         9.000000        99.000000      9.000000   \n",
       "\n",
       "       Sample Question Papers Practiced  Performance Index  \n",
       "count                      10000.000000       10000.000000  \n",
       "mean                           4.583300          55.224800  \n",
       "std                            2.867348          19.212558  \n",
       "min                            0.000000          10.000000  \n",
       "25%                            2.000000          40.000000  \n",
       "50%                            5.000000          55.000000  \n",
       "75%                            7.000000          71.000000  \n",
       "max                            9.000000         100.000000  "
      ]
     },
     "metadata": {},
     "output_type": "display_data"
    },
    {
     "name": "stdout",
     "output_type": "stream",
     "text": [
      "<class 'pandas.core.frame.DataFrame'>\n",
      "RangeIndex: 10000 entries, 0 to 9999\n",
      "Data columns (total 6 columns):\n",
      " #   Column                            Non-Null Count  Dtype  \n",
      "---  ------                            --------------  -----  \n",
      " 0   Hours Studied                     10000 non-null  int64  \n",
      " 1   Previous Scores                   10000 non-null  int64  \n",
      " 2   Extracurricular Activities        10000 non-null  object \n",
      " 3   Sleep Hours                       10000 non-null  int64  \n",
      " 4   Sample Question Papers Practiced  10000 non-null  int64  \n",
      " 5   Performance Index                 10000 non-null  float64\n",
      "dtypes: float64(1), int64(4), object(1)\n",
      "memory usage: 468.9+ KB\n"
     ]
    },
    {
     "data": {
      "text/plain": [
       "None"
      ]
     },
     "metadata": {},
     "output_type": "display_data"
    }
   ],
   "source": [
    "# чтение данных из файла\n",
    "data = pd.read_csv('Student_Performance.txt', delimiter=',')\n",
    "display(data.describe())\n",
    "display(data.info())\n",
    "n = data.shape[0]"
   ]
  },
  {
   "cell_type": "code",
   "execution_count": 16,
   "id": "f958c987-27f4-4599-abaf-91c6f3973208",
   "metadata": {},
   "outputs": [
    {
     "data": {
      "text/html": [
       "<div>\n",
       "<style scoped>\n",
       "    .dataframe tbody tr th:only-of-type {\n",
       "        vertical-align: middle;\n",
       "    }\n",
       "\n",
       "    .dataframe tbody tr th {\n",
       "        vertical-align: top;\n",
       "    }\n",
       "\n",
       "    .dataframe thead th {\n",
       "        text-align: right;\n",
       "    }\n",
       "</style>\n",
       "<table border=\"1\" class=\"dataframe\">\n",
       "  <thead>\n",
       "    <tr style=\"text-align: right;\">\n",
       "      <th></th>\n",
       "      <th>Hours Studied</th>\n",
       "      <th>Previous Scores</th>\n",
       "      <th>Sleep Hours</th>\n",
       "      <th>Sample Question Papers Practiced</th>\n",
       "      <th>Performance Index</th>\n",
       "    </tr>\n",
       "  </thead>\n",
       "  <tbody>\n",
       "    <tr>\n",
       "      <th>0</th>\n",
       "      <td>7</td>\n",
       "      <td>99</td>\n",
       "      <td>9</td>\n",
       "      <td>1</td>\n",
       "      <td>91.0</td>\n",
       "    </tr>\n",
       "    <tr>\n",
       "      <th>1</th>\n",
       "      <td>4</td>\n",
       "      <td>82</td>\n",
       "      <td>4</td>\n",
       "      <td>2</td>\n",
       "      <td>65.0</td>\n",
       "    </tr>\n",
       "    <tr>\n",
       "      <th>2</th>\n",
       "      <td>8</td>\n",
       "      <td>51</td>\n",
       "      <td>7</td>\n",
       "      <td>2</td>\n",
       "      <td>45.0</td>\n",
       "    </tr>\n",
       "    <tr>\n",
       "      <th>3</th>\n",
       "      <td>5</td>\n",
       "      <td>52</td>\n",
       "      <td>5</td>\n",
       "      <td>2</td>\n",
       "      <td>36.0</td>\n",
       "    </tr>\n",
       "    <tr>\n",
       "      <th>4</th>\n",
       "      <td>7</td>\n",
       "      <td>75</td>\n",
       "      <td>8</td>\n",
       "      <td>5</td>\n",
       "      <td>66.0</td>\n",
       "    </tr>\n",
       "  </tbody>\n",
       "</table>\n",
       "</div>"
      ],
      "text/plain": [
       "   Hours Studied  Previous Scores  Sleep Hours  \\\n",
       "0              7               99            9   \n",
       "1              4               82            4   \n",
       "2              8               51            7   \n",
       "3              5               52            5   \n",
       "4              7               75            8   \n",
       "\n",
       "   Sample Question Papers Practiced  Performance Index  \n",
       "0                                 1               91.0  \n",
       "1                                 2               65.0  \n",
       "2                                 2               45.0  \n",
       "3                                 2               36.0  \n",
       "4                                 5               66.0  "
      ]
     },
     "execution_count": 16,
     "metadata": {},
     "output_type": "execute_result"
    }
   ],
   "source": [
    "# удаляем задании столбец 'Extracurricular Activities'\n",
    "data.drop('Extracurricular Activities', axis=1, inplace=True)\n",
    "data.head()"
   ]
  },
  {
   "cell_type": "code",
   "execution_count": 17,
   "id": "2650c004-ceb9-4601-bf3b-7b6494f2c9e8",
   "metadata": {},
   "outputs": [
    {
     "name": "stdout",
     "output_type": "stream",
     "text": [
      "В данных нет пропусков.\n"
     ]
    }
   ],
   "source": [
    "# Проверяем на пропуски\n",
    "if data.isnull().sum().sum() > 0:\n",
    "    print(\"В данных есть пропуски:\")\n",
    "    print(data.isnull().sum())  # Вывод количества пропусков по каждому столбцу\n",
    "else:\n",
    "    print(\"В данных нет пропусков.\")"
   ]
  },
  {
   "cell_type": "code",
   "execution_count": 18,
   "id": "2ba95ce0-e267-44d4-b6c7-e43c285a829d",
   "metadata": {},
   "outputs": [],
   "source": [
    "# Подготовка данных, предварительный анализ данных\n",
    "# В данных нет пропущенных значений\n",
    "# Исключаем значение признака внеклассной деятельности Extracurricular Activities (не учитываем по условиям задачи).\n",
    "# Размерность параметра Previous Scores отличается от остальных практически на порядок, необходима стандартизация данных."
   ]
  },
  {
   "cell_type": "code",
   "execution_count": 19,
   "id": "99a3f28c-45ed-46b6-9c2b-4db457357663",
   "metadata": {},
   "outputs": [
    {
     "name": "stdout",
     "output_type": "stream",
     "text": [
      "[[55.224]\n",
      " [ 7.388]\n",
      " [17.664]\n",
      " [ 0.808]\n",
      " [ 0.56 ]]\n",
      "Средняя абсолютная ошибка: 3.4961 %\n"
     ]
    }
   ],
   "source": [
    "n = data.shape[0]\n",
    "# переменные с признаками\n",
    "X = data[['Hours Studied', 'Previous Scores', 'Sleep Hours', 'Sample Question Papers Practiced']].values.reshape(n,4)\n",
    "# целевой вектор\n",
    "y = data['Performance Index'].values.reshape(n,1)\n",
    "\n",
    "#Стандартизация данных\n",
    "scaler = StandardScaler()\n",
    "X = scaler.fit_transform(X)\n",
    "#scaler = MinMaxScaler()\n",
    "#X = scaler.fit_transform(X)\n",
    " \n",
    "# Добавление столбца для свободного члена\n",
    "X = np.append(np.ones((n, 1)), X, axis=1)\n",
    "\n",
    "# инициализируем начальный нулевой вектор\n",
    "w = np.zeros((5,1))\n",
    "\n",
    "# Функция ошибок (потерь)\n",
    "def cost_function(X, y , par):\n",
    "    y_pred = np.dot(X, par)\n",
    "    error = (y_pred - y)**2\n",
    "    cost = 1/(n)*np.sum(error)\n",
    "    return cost\n",
    "\n",
    "# реализуем функцию градиентного спуска\n",
    "def grad_d(X,y, par, alpha, iterations, eps=0.001):\n",
    "    costs = [] # список ошибок\n",
    "    for i in range(iterations):\n",
    "        y_pred = np.dot(X, par)\n",
    "        der = np.dot (X.transpose(), (y_pred - y))/ n\n",
    "        par -= alpha * der\n",
    "        costs.append(cost_function(X,y, par))\n",
    "        if np.linalg.norm(der) < eps: # Критерий остановки - длина вектора градиента меньше либо равна eps\n",
    "            break\n",
    "    return par, costs\n",
    "\n",
    "# вычисляем коэффициенты регрессии\n",
    "w, costs = grad_d(X,y, w, 0.00005, 500000) # шаг = 0,00005 (темп обучения), количество итераций = 500000\n",
    "  \n",
    "print(w.round(3))\n",
    "\n",
    "y_pred = np.dot(X, w)\n",
    "# считаем ошибку предсказания\n",
    "mape = np.mean(abs(y-y_pred) / y)* 100\n",
    "print(f'Средняя абсолютная ошибка: {round(mape,4)} %')"
   ]
  },
  {
   "cell_type": "code",
   "execution_count": 20,
   "id": "b17fe322-09b9-4834-9c84-b9a2bb6b3dc5",
   "metadata": {},
   "outputs": [
    {
     "name": "stdout",
     "output_type": "stream",
     "text": [
      "[[ 0.          7.38803993 17.66456609  0.80775508  0.55967342]]\n",
      "[55.2248]\n"
     ]
    }
   ],
   "source": [
    "#Реализация с помощью библиотеки sklearn\n",
    "model = LinearRegression()\n",
    "model.fit(X,y)\n",
    "print(model.coef_)\n",
    "print(model.intercept_)"
   ]
  },
  {
   "cell_type": "code",
   "execution_count": 21,
   "id": "0c386952-d145-42a0-84ce-027cf32d54e6",
   "metadata": {},
   "outputs": [
    {
     "data": {
      "text/html": [
       "<div>\n",
       "<style scoped>\n",
       "    .dataframe tbody tr th:only-of-type {\n",
       "        vertical-align: middle;\n",
       "    }\n",
       "\n",
       "    .dataframe tbody tr th {\n",
       "        vertical-align: top;\n",
       "    }\n",
       "\n",
       "    .dataframe thead th {\n",
       "        text-align: right;\n",
       "    }\n",
       "</style>\n",
       "<table border=\"1\" class=\"dataframe\">\n",
       "  <thead>\n",
       "    <tr style=\"text-align: right;\">\n",
       "      <th></th>\n",
       "      <th>Метод</th>\n",
       "      <th>intercept</th>\n",
       "      <th>Коэффициент 1</th>\n",
       "      <th>Коэффициент 2</th>\n",
       "      <th>Коэффициент 3</th>\n",
       "      <th>Коэффициент 4</th>\n",
       "    </tr>\n",
       "  </thead>\n",
       "  <tbody>\n",
       "    <tr>\n",
       "      <th>0</th>\n",
       "      <td>Python</td>\n",
       "      <td>[55.22387]</td>\n",
       "      <td>[7.38787]</td>\n",
       "      <td>[17.66425]</td>\n",
       "      <td>[0.80776]</td>\n",
       "      <td>[0.55972]</td>\n",
       "    </tr>\n",
       "    <tr>\n",
       "      <th>1</th>\n",
       "      <td>LinearRegression</td>\n",
       "      <td>[55.2248]</td>\n",
       "      <td>7.38804</td>\n",
       "      <td>17.66457</td>\n",
       "      <td>0.80776</td>\n",
       "      <td>0.55967</td>\n",
       "    </tr>\n",
       "  </tbody>\n",
       "</table>\n",
       "</div>"
      ],
      "text/plain": [
       "              Метод   intercept Коэффициент 1 Коэффициент 2 Коэффициент 3  \\\n",
       "0            Python  [55.22387]     [7.38787]    [17.66425]     [0.80776]   \n",
       "1  LinearRegression   [55.2248]       7.38804      17.66457       0.80776   \n",
       "\n",
       "  Коэффициент 4  \n",
       "0     [0.55972]  \n",
       "1       0.55967  "
      ]
     },
     "metadata": {},
     "output_type": "display_data"
    }
   ],
   "source": [
    "# Сводный результат\n",
    "rezult_data = pd.DataFrame({\n",
    "    'Метод': ['Python','LinearRegression'],\n",
    "    'intercept':     [np.round(w[0],5), np.round(model.intercept_, 5)],\n",
    "    'Коэффициент 1': [np.round(w[1],5), np.round(model.coef_[0,1], 5)],\n",
    "    'Коэффициент 2': [np.round(w[2],5), np.round(model.coef_[0,2], 5)],\n",
    "    'Коэффициент 3': [np.round(w[3],5), np.round(model.coef_[0,3], 5)],\n",
    "    'Коэффициент 4': [np.round(w[4],5), np.round(model.coef_[0,4], 5)],\n",
    "})\n",
    "\n",
    "display(rezult_data)"
   ]
  },
  {
   "cell_type": "code",
   "execution_count": 22,
   "id": "e8963b76-39c4-4ea8-9a69-87db6cd015cd",
   "metadata": {},
   "outputs": [],
   "source": [
    "# MAPE = 3.4961%, это говорит о хорошей точности модели.\n",
    "# Решение вручную на Python и с помощью библиотеки sklearn дало практически oдинаковый результат. "
   ]
  },
  {
   "cell_type": "code",
   "execution_count": null,
   "id": "34ad86d5-6e70-4904-81e2-cef142025cd4",
   "metadata": {},
   "outputs": [],
   "source": []
  }
 ],
 "metadata": {
  "colab": {
   "provenance": []
  },
  "kernelspec": {
   "display_name": "Python [conda env:base] *",
   "language": "python",
   "name": "conda-base-py"
  },
  "language_info": {
   "codemirror_mode": {
    "name": "ipython",
    "version": 3
   },
   "file_extension": ".py",
   "mimetype": "text/x-python",
   "name": "python",
   "nbconvert_exporter": "python",
   "pygments_lexer": "ipython3",
   "version": "3.12.7"
  }
 },
 "nbformat": 4,
 "nbformat_minor": 5
}
