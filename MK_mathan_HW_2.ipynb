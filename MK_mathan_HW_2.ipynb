{
 "cells": [
  {
   "cell_type": "markdown",
   "id": "26e882ce-4bad-444c-83ab-525f697cc6f4",
   "metadata": {},
   "source": [
    "Задача 1. (11 баллов)\n",
    "\n",
    "В известном магазине техники представлено очень много экземпляров различной бытовой техники двух видов: с возможностью подключения к системе \"Умный дом\" и без такой возможности. Причем, известно, что эти два вида техники представлены в пропорции 1 : 3 соответственно. Случайным образом выбрали 7 экземпляров техники для розыгрыша среди участниц конкурса \"Мисс Рукоделье - 2024\". Какова вероятность, что среди них не более двух экземпляров с возможностью подключения к системе \"Умный дом\"?\n",
    "\n",
    "Подробно распишите решение и обоснуйте выбор распределения для моделирования сюжета задачи. Ответ округлите до трёх знаков.\n"
   ]
  },
  {
   "cell_type": "code",
   "execution_count": 2,
   "id": "6b0075b9-9201-4e36-8df8-46680b83166e",
   "metadata": {},
   "outputs": [
    {
     "name": "stdout",
     "output_type": "stream",
     "text": [
      "{0: 0.1334838867, 1: 0.3114624023, 2: 0.3114624023, 3: 0.173034668, 4: 0.0576782227, 5: 0.0115356445, 6: 0.0012817383}\n",
      "вероятность выбора среди 7 экземпляров технике не более 2-х с системой \"Умный дом\" составляет:  0.756\n",
      "вероятность  0.756\n"
     ]
    }
   ],
   "source": [
    "# Условия задачи соответствуют биномиальному распределению - число успехов к = количество экземпляров техники с \"Умным домом\", в n = 7 испытаниях\n",
    "import numpy as np\n",
    "from scipy.stats import binom\n",
    "n = 7  # количество испытаний\n",
    "k = 2  # число успехов \n",
    "p = 0.25 #  вероятность успеха (техника с \"Умным домом\")\n",
    "x = np.arange(0, n, 1) # возможные значения\n",
    "o_pmf = binom.pmf(x, n, p)  # массовая функция распределения\n",
    "s = {}                         \n",
    "for i in range(n):    \n",
    "    s[i] = round(o_pmf[i], 10)\n",
    "print(s)\n",
    "\n",
    "# cкладываем вероятности Р(0), Р(1) и Р(2)\n",
    "P = sum(s[i] for i in range(k+1)) # вероятность того, что выберем не более 2-х экземпляров с подключением к системе \"Умный дом\"\n",
    "print('вероятность выбора среди 7 экземпляров технике не более 2-х с системой \"Умный дом\" составляет: ', round((P),3))\n",
    "\n",
    "# или проще, с помощью кумулятивной функции\n",
    "k_cdf = binom.cdf(x, n, p)  \n",
    "print('вероятность ', round(k_cdf[k],3))\n"
   ]
  },
  {
   "cell_type": "code",
   "execution_count": 3,
   "id": "b1483ee5-69ac-4e01-9add-d2ff6430fc77",
   "metadata": {},
   "outputs": [
    {
     "data": {
      "image/png": "[encoded data removed]",
      "text/plain": [
       "<Figure size 640x480 with 1 Axes>"
      ]
     },
     "metadata": {},
     "output_type": "display_data"
    }
   ],
   "source": [
    "import matplotlib.pyplot as plt\n",
    "x = np.arange(0, n, 0.01)\n",
    "plt.scatter(x, binom.cdf(x, n, p)) # кумулятивная функция\n",
    "plt.title('CDF')\n",
    "plt.grid() \n",
    "plt.show()"
   ]
  },
  {
   "cell_type": "markdown",
   "id": "8eb92d54-a081-4083-9e6e-f0a826d08d6e",
   "metadata": {},
   "source": [
    "Задача 2 (30 баллов)\n",
    "\n",
    "Дан закон распределения количества публикаций в которой группе телеграм-каналов:\n",
    "Найдите пропущенную вероятность для X = 0, математическое ожидание и дисперсию. Решите задачу \"вручную\" и с помощью python."
   ]
  },
  {
   "attachments": {
    "7943c602-0196-4137-9471-ac0d737a8b82.png": {
     "image/png": "[encoded data removed]"
    }
   },
   "cell_type": "markdown",
   "id": "a4fd50a2-98bc-488a-b74e-07e469404d28",
   "metadata": {},
   "source": [
    "![image.png](attachment:7943c602-0196-4137-9471-ac0d737a8b82.png)\n"
   ]
  },
  {
   "cell_type": "code",
   "execution_count": 6,
   "id": "dd87cc77-e7f5-4a49-8c96-46ed2e599fb5",
   "metadata": {},
   "outputs": [
    {
     "name": "stdout",
     "output_type": "stream",
     "text": [
      "математическое ожидание =  2.4\n",
      "дисперсия =  1.64\n",
      "\n",
      "Решение c помощью Python\n",
      "вероятность для x = 0: 0.0\n",
      "Математическое ожидание: 2.4\n",
      "Дисперсия: 1.64\n"
     ]
    }
   ],
   "source": [
    "import numpy as np\n",
    "import statistics\n",
    "\n",
    "# решение \"вручную\"\n",
    "# Сумма всех вероятностей = 1\n",
    "# Р(х0) = 1 - Р(х1) - Р(х2) - Р(х3) - Р(х4) - Р(х5)\n",
    "# Р(х0) = 0\n",
    "# mатематическое ожидание = сумма произведений значений на соответствующие вероятности\n",
    "# М = х0*Р(х0) + х1*Р(х1) + х2*Р(х2) + х3*Р(х3) +х4*Р(х4) + х5*Р(х5)\n",
    "M = 0*0 + 1*0.3 + 2*0.3 + 3*0.2 + 4*0.1 + 5*0.1\n",
    "print('математическое ожидание = ', M)\n",
    "\n",
    "# дисперсия = среднее квадратичное отклонение от среднего значения:\n",
    "# математическое ожидание квадрата случайной величины\n",
    "# M2 = х0**2*Р(х0) + х1**2*Р(х1) + х2**2*Р(х2) + х3**2*Р(х3) +х4**2*Р(х4) + х5**2*Р(х5)\n",
    "M2 = 0**2*0 + 1**2*0.3 + 2**2*0.3 + 3**2*0.2 +4**2*0.1 + 5**2*0.1\n",
    "#D = M2 - M**2\n",
    "D = M2 - M**2 \n",
    "print('дисперсия = ', round(D,2))\n",
    "\n",
    "print('\\nРешение c помощью Python')\n",
    "x = np.array([0, 1, 2, 3, 4, 5])\n",
    "p = np.array([0, 0.3, 0.3, 0.2, 0.1, 0.1])\n",
    "\n",
    "P0 = 1 - sum(p)\n",
    "print('вероятность для x = 0:', P0)\n",
    "\n",
    "Mp = np.sum(x * p)\n",
    "print('Математическое ожидание:', Mp)\n",
    "\n",
    "\n",
    "# Дисперсия\n",
    "Mp2 = np.sum((x**2) * p)\n",
    "Var_x = Mp2 - Mp**2\n",
    "print('Дисперсия:', round(Var_x,2))"
   ]
  },
  {
   "cell_type": "markdown",
   "id": "a462e7d4-ae3a-4b9e-9d88-58c74bce8c99",
   "metadata": {},
   "source": [
    "Задача 3 (25 баллов)\n",
    "\n",
    "Компания приобрела 10 000 новых ноутбуков. Вероятность поломки одного ноутбука в течение месяца равна 0,0002. Предполагается, что поломки отдельных ноутбуков происходят независимо друг от друга.\n",
    "\n",
    "Вопрос 1. Найдите вероятность того, что за месяц сломается ровно 1 ноутбук. Решение объясните. (5 баллов)"
   ]
  },
  {
   "cell_type": "markdown",
   "id": "0038b436-7af7-4335-b064-3ac64a674538",
   "metadata": {},
   "source": [
    "Вопрос 2. Компания планирует ввести программу расширенной гарантии, по которой она будет бесплатно ремонтировать или заменять ноутбуки, сломавшиеся в течение месяца. Если общее количество поломок за месяц превысит 5 ноутбуков, компания понесет значительные дополнительные расходы.\n",
    "\n",
    "а) Найдите вероятность того, что за месяц сломается более 5 ноутбуков.Решение объясните (10 баллов)\n",
    "\n",
    "б) Если стоимость ремонта или замены одного ноутбука составляет 500 долларов, вычислите математическое ожидание общих расходов компании на поломки за один месяц. (10 баллов)"
   ]
  },
  {
   "cell_type": "code",
   "execution_count": 9,
   "id": "0fa82cb0-59fe-4f0b-92f3-359afd720eb7",
   "metadata": {},
   "outputs": [
    {
     "name": "stdout",
     "output_type": "stream",
     "text": [
      "{0: 0.13534, 1: 0.27067, 2: 0.27067, 3: 0.18045, 4: 0.09022, 5: 0.03609}\n",
      "\n",
      "вероятность того, что сломается 1 ноутбук составляет:  0.2707\n",
      "вероятность того, что сломаются 5 ноутбуков или меньше составляет:  0.9834\n",
      "вероятность того, что сломаются больше 5 ноутбуков составляет:      0.0166\n",
      "вероятность, прассчитанная с помощью кумулятивной функция распределения:   0.0166\n",
      "\n",
      "Ожидаемые расходы на ремонт в месяц:   1000.0\n"
     ]
    }
   ],
   "source": [
    "# используем распределения Пуассона, т.к. имеем дело с редким событием в большом количестве испытаний \n",
    "\n",
    "from scipy.stats import poisson\n",
    "n = 10000  # количество ноутбуков\n",
    "p = 0.0002 # вероятность поломки\n",
    "mu = n*p\n",
    "x = np.arange(0, 6, 1) # считаем вероятности для 6 возможных исходов = сломались (0,1,2,3,4 и 5) ноутбуков\n",
    "o_pmf = poisson.pmf(x, mu)  # массовая функция распределения\n",
    "s = {}  # результат записываем в словарь\n",
    "for i in range(6):\n",
    "    s[i] = round(o_pmf[i], 5)\n",
    "print(s)\n",
    "print('\\nвероятность того, что сломается 1 ноутбук составляет: ', round(s[1],4))\n",
    "\n",
    "# вероятность поломки более 5 ноутбуков = 1 - вероятность поломки 0,1,2,3,4 или 5 ноутбуков\n",
    "k = 6\n",
    "P = sum(s[i] for i in range(k)) # вероятность того, что сломается от 0 до 5 ноутбуков включительно\n",
    "print(f'вероятность того, что сломаются {k-1} ноутбуков или меньше составляет: ', round((P),4))\n",
    "print(f'вероятность того, что сломаются больше {k-1} ноутбуков составляет:     ', round((1-P),4))\n",
    "\n",
    "# кумулятивная функция распределения\n",
    "k_pmf = poisson.cdf(x, mu)  \n",
    "print('вероятность, прассчитанная с помощью кумулятивной функция распределения:  ', round((1-k_pmf[5]),4))\n",
    "\n",
    "# Математическое ожидание общих расходов компании на поломки за один месяц\n",
    "cost1 = 500 #  стоимость ремонта или замены одного ноутбука\n",
    "print('\\nОжидаемые расходы на ремонт в месяц:  ', n*p*cost1)"
   ]
  },
  {
   "cell_type": "code",
   "execution_count": null,
   "id": "3b28cce9-9995-4789-9d5d-e6ef0017baa2",
   "metadata": {},
   "outputs": [],
   "source": []
  },
  {
   "cell_type": "code",
   "execution_count": null,
   "id": "9629f71a-2f93-4e49-9f9e-940246f1c6f7",
   "metadata": {},
   "outputs": [],
   "source": []
  }
 ],
 "metadata": {
  "kernelspec": {
   "display_name": "Python [conda env:base] *",
   "language": "python",
   "name": "conda-base-py"
  },
  "language_info": {
   "codemirror_mode": {
    "name": "ipython",
    "version": 3
   },
   "file_extension": ".py",
   "mimetype": "text/x-python",
   "name": "python",
   "nbconvert_exporter": "python",
   "pygments_lexer": "ipython3",
   "version": "3.12.7"
  }
 },
 "nbformat": 4,
 "nbformat_minor": 5
}
